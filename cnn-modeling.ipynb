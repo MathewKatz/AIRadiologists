{
 "cells": [
  {
   "cell_type": "markdown",
   "metadata": {},
   "source": [
    "## Project 5 - Predicting COVID with Chest X-Rays"
   ]
  },
  {
   "cell_type": "code",
   "execution_count": 1,
   "metadata": {},
   "outputs": [],
   "source": [
    "#general imports\n",
    "import pandas as pd\n",
    "import numpy as np\n",
    "import matplotlib.pyplot as plt\n",
    "\n",
    "#image reading in and preprocesing imports\n",
    "import imageio\n",
    "import PIL\n",
    "from PIL import Image\n",
    "import os\n",
    "from tensorflow.keras.preprocessing import image_dataset_from_directory\n",
    "from tensorflow.keras.preprocessing.image import ImageDataGenerator\n",
    "\n",
    "#convolution neural network imports\n",
    "from tensorflow.keras.layers import Dense, Input, Flatten, Conv2D, MaxPool2D\n",
    "from tensorflow.keras.models import Sequential\n",
    "from tensorflow.keras.metrics import Recall, Precision"
   ]
  },
  {
   "cell_type": "code",
   "execution_count": 2,
   "metadata": {},
   "outputs": [],
   "source": [
    "#read in photos with ImageDataGenerator\n",
    "#image io, os, pillow"
   ]
  },
  {
   "cell_type": "code",
   "execution_count": 3,
   "metadata": {},
   "outputs": [
    {
     "data": {
      "text/plain": [
       "'C:\\\\Users\\\\Jen\\\\Desktop\\\\DSI\\\\project-5\\\\AIRadiologists'"
      ]
     },
     "execution_count": 3,
     "metadata": {},
     "output_type": "execute_result"
    }
   ],
   "source": [
    "os.getcwd()"
   ]
  },
  {
   "cell_type": "code",
   "execution_count": 4,
   "metadata": {},
   "outputs": [
    {
     "name": "stdout",
     "output_type": "stream",
     "text": [
      "Found 3109 images belonging to 3 classes.\n",
      "Found 777 images belonging to 3 classes.\n"
     ]
    }
   ],
   "source": [
    "#load all images\n",
    "#directory parameter == file path! make sure the relative path is correct!\n",
    "#create a train dataset from the generator\n",
    "#label the batch_size for use later in the code\n",
    "\n",
    "#data augmentation\n",
    "image_generator = ImageDataGenerator(rescale = 1./255,\n",
    "                                  validation_split = .2,\n",
    "                                    horizontal_flip=True,\n",
    "                                    vertical_flip=True,\n",
    "                                    brightness_range=(0.5,.75))\n",
    "\n",
    "\n",
    "bat_size = 32\n",
    "\n",
    "train_data = image_generator.flow_from_directory(directory = 'COVID-19-Radiography-Database/',\n",
    "                                                 class_mode='categorical',\n",
    "                                                 color_mode='grayscale',\n",
    "                                                 subset = 'training',\n",
    "                                                 target_size=(256,256),\n",
    "                                                 batch_size=bat_size)\n",
    "\n",
    "#create a validation dataset from the generator\n",
    "val_data = image_generator.flow_from_directory(directory = 'COVID-19-Radiography-Database/',\n",
    "                                                      class_mode='categorical',\n",
    "                                                      color_mode='grayscale',\n",
    "                                                      subset='validation',\n",
    "                                                      target_size=(256,256),\n",
    "                                                      batch_size=bat_size)"
   ]
  },
  {
   "cell_type": "code",
   "execution_count": 5,
   "metadata": {},
   "outputs": [],
   "source": [
    "#create the neural network\n",
    "model = Sequential()\n",
    "\n",
    "model.add(Conv2D(32, kernel_size = (3,3), activation = 'relu', input_shape = (256,256,1)))\n",
    "model.add(MaxPool2D(pool_size = (2,2)))\n",
    "\n",
    "model.add(Flatten())\n",
    "model.add(Dense(320, activation = 'relu'))\n",
    "model.add(Dense(3, activation='softmax'))\n",
    "\n",
    "#compile the model\n",
    "model.compile(optimizer = 'adam', \n",
    "              loss = 'categorical_crossentropy',\n",
    "              metrics = ['acc', 'Recall', 'Precision' ])"
   ]
  },
  {
   "cell_type": "code",
   "execution_count": 6,
   "metadata": {},
   "outputs": [
    {
     "name": "stderr",
     "output_type": "stream",
     "text": [
      "C:\\Users\\Jen\\anaconda3\\lib\\site-packages\\tensorflow\\python\\keras\\engine\\training.py:1844: UserWarning: `Model.fit_generator` is deprecated and will be removed in a future version. Please use `Model.fit`, which supports generators.\n",
      "  warnings.warn('`Model.fit_generator` is deprecated and '\n"
     ]
    },
    {
     "name": "stdout",
     "output_type": "stream",
     "text": [
      "Epoch 1/15\n",
      "97/97 [==============================] - 103s 1s/step - loss: 5.2939 - acc: 0.6522 - recall: 0.6283 - precision: 0.6562 - val_loss: 0.2476 - val_acc: 0.9258 - val_recall: 0.9167 - val_precision: 0.9374\n",
      "Epoch 2/15\n",
      "97/97 [==============================] - 87s 894ms/step - loss: 0.2843 - acc: 0.9061 - recall: 0.9019 - precision: 0.9155 - val_loss: 0.3314 - val_acc: 0.8789 - val_recall: 0.8763 - val_precision: 0.8855\n",
      "Epoch 3/15\n",
      "97/97 [==============================] - 86s 891ms/step - loss: 0.1910 - acc: 0.9327 - recall: 0.9292 - precision: 0.9363 - val_loss: 0.1528 - val_acc: 0.9466 - val_recall: 0.9440 - val_precision: 0.9502\n",
      "Epoch 4/15\n",
      "97/97 [==============================] - 86s 884ms/step - loss: 0.1138 - acc: 0.9692 - recall: 0.9674 - precision: 0.9723 - val_loss: 0.1467 - val_acc: 0.9466 - val_recall: 0.9414 - val_precision: 0.9526\n",
      "Epoch 5/15\n",
      "97/97 [==============================] - 88s 907ms/step - loss: 0.0940 - acc: 0.9721 - recall: 0.9700 - precision: 0.9749 - val_loss: 0.1701 - val_acc: 0.9414 - val_recall: 0.9401 - val_precision: 0.9450\n",
      "Epoch 6/15\n",
      "97/97 [==============================] - 88s 908ms/step - loss: 0.0835 - acc: 0.9748 - recall: 0.9729 - precision: 0.9772 - val_loss: 0.1304 - val_acc: 0.9544 - val_recall: 0.9544 - val_precision: 0.9569\n",
      "Epoch 7/15\n",
      "97/97 [==============================] - 86s 888ms/step - loss: 0.0610 - acc: 0.9816 - recall: 0.9807 - precision: 0.9842 - val_loss: 0.1303 - val_acc: 0.9557 - val_recall: 0.9505 - val_precision: 0.9555\n",
      "Epoch 8/15\n",
      "97/97 [==============================] - 85s 879ms/step - loss: 0.0713 - acc: 0.9804 - recall: 0.9803 - precision: 0.9826 - val_loss: 0.1623 - val_acc: 0.9414 - val_recall: 0.9375 - val_precision: 0.9449\n",
      "Epoch 9/15\n",
      "97/97 [==============================] - 85s 874ms/step - loss: 0.0682 - acc: 0.9827 - recall: 0.9825 - precision: 0.9835 - val_loss: 0.1224 - val_acc: 0.9544 - val_recall: 0.9544 - val_precision: 0.9582\n",
      "Epoch 10/15\n",
      "97/97 [==============================] - 85s 875ms/step - loss: 0.0404 - acc: 0.9866 - recall: 0.9866 - precision: 0.9872 - val_loss: 0.1245 - val_acc: 0.9492 - val_recall: 0.9479 - val_precision: 0.9504\n",
      "Epoch 11/15\n",
      "97/97 [==============================] - 85s 875ms/step - loss: 0.0368 - acc: 0.9906 - recall: 0.9904 - precision: 0.9908 - val_loss: 0.1387 - val_acc: 0.9492 - val_recall: 0.9492 - val_precision: 0.9505\n",
      "Epoch 12/15\n",
      "97/97 [==============================] - 84s 865ms/step - loss: 0.0289 - acc: 0.9941 - recall: 0.9941 - precision: 0.9943 - val_loss: 0.1156 - val_acc: 0.9635 - val_recall: 0.9622 - val_precision: 0.9648\n",
      "Epoch 13/15\n",
      "97/97 [==============================] - 85s 870ms/step - loss: 0.0331 - acc: 0.9892 - recall: 0.9881 - precision: 0.9899 - val_loss: 0.1352 - val_acc: 0.9557 - val_recall: 0.9505 - val_precision: 0.9567\n",
      "Epoch 14/15\n",
      "97/97 [==============================] - 85s 871ms/step - loss: 0.0216 - acc: 0.9951 - recall: 0.9951 - precision: 0.9951 - val_loss: 0.1148 - val_acc: 0.9596 - val_recall: 0.9596 - val_precision: 0.9609\n",
      "Epoch 15/15\n",
      "97/97 [==============================] - 85s 871ms/step - loss: 0.0182 - acc: 0.9963 - recall: 0.9963 - precision: 0.9963 - val_loss: 0.1461 - val_acc: 0.9505 - val_recall: 0.9505 - val_precision: 0.9542\n"
     ]
    },
    {
     "data": {
      "text/plain": [
       "<tensorflow.python.keras.callbacks.History at 0x1be959079a0>"
      ]
     },
     "execution_count": 6,
     "metadata": {},
     "output_type": "execute_result"
    }
   ],
   "source": [
    "#fit the generator to the model\n",
    "model.fit_generator(train_data,\n",
    "                   validation_data = val_data,\n",
    "                   steps_per_epoch = train_data.n//train_data.batch_size,\n",
    "                   validation_steps = val_data.n//val_data.batch_size,\n",
    "                   epochs = 15)"
   ]
  },
  {
   "cell_type": "code",
   "execution_count": null,
   "metadata": {},
   "outputs": [],
   "source": [
    "#save the model\n",
    "model.save('covidpredictor.h5')"
   ]
  },
  {
   "cell_type": "markdown",
   "metadata": {},
   "source": [
    "An iterator can be created for an image dataset located on disk in a specified directory, where images in that directory are organized into subdirectories according to their class."
   ]
  },
  {
   "cell_type": "markdown",
   "metadata": {},
   "source": [
    "Once the iterator is created, it can be used to train a neural network model by calling the fit_generator() function."
   ]
  }
 ],
 "metadata": {
  "kernelspec": {
   "display_name": "Python 3",
   "language": "python",
   "name": "python3"
  },
  "language_info": {
   "codemirror_mode": {
    "name": "ipython",
    "version": 3
   },
   "file_extension": ".py",
   "mimetype": "text/x-python",
   "name": "python",
   "nbconvert_exporter": "python",
   "pygments_lexer": "ipython3",
   "version": "3.8.5"
  }
 },
 "nbformat": 4,
 "nbformat_minor": 4
}
