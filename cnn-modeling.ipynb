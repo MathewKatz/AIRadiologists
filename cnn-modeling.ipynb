{
 "cells": [
  {
   "cell_type": "markdown",
   "metadata": {},
   "source": [
    "## Project 5 - Predicting COVID with Chest X-Rays"
   ]
  },
  {
   "cell_type": "code",
   "execution_count": 5,
   "metadata": {},
   "outputs": [],
   "source": [
    "#general imports\n",
    "import pandas as pd\n",
    "import numpy as np\n",
    "import matplotlib.pyplot as plt\n",
    "\n",
    "#image reading in and preprocesing imports\n",
    "import imageio\n",
    "import PIL\n",
    "from PIL import Image\n",
    "import os\n",
    "from tensorflow.keras.preprocessing import image_dataset_from_directory\n",
    "from tensorflow.keras.preprocessing.image import ImageDataGenerator\n",
    "\n",
    "#convolution neural network imports\n",
    "from tensorflow.keras.layers import Dense, Input, Flatten, Conv2D, MaxPool2D\n",
    "from tensorflow.keras.models import Sequential\n",
    "from tensorflow.keras.metrics import Recall, Precision"
   ]
  },
  {
   "cell_type": "code",
   "execution_count": 6,
   "metadata": {},
   "outputs": [],
   "source": [
    "#read in photos with ImageDataGenerator\n",
    "#image io, os, pillow"
   ]
  },
  {
   "cell_type": "code",
   "execution_count": 7,
   "metadata": {},
   "outputs": [
    {
     "data": {
      "text/plain": [
       "'C:\\\\Users\\\\Jen\\\\Desktop\\\\DSI\\\\project-5\\\\AIRadiologists'"
      ]
     },
     "execution_count": 7,
     "metadata": {},
     "output_type": "execute_result"
    }
   ],
   "source": [
    "os.getcwd()"
   ]
  },
  {
   "cell_type": "code",
   "execution_count": 8,
   "metadata": {},
   "outputs": [
    {
     "name": "stdout",
     "output_type": "stream",
     "text": [
      "1020\n"
     ]
    }
   ],
   "source": [
    "files = os.listdir('COVID-19-Radiography-Database/train/COVID/')\n",
    "print(len(files))"
   ]
  },
  {
   "cell_type": "code",
   "execution_count": 10,
   "metadata": {},
   "outputs": [
    {
     "name": "stdout",
     "output_type": "stream",
     "text": [
      "Found 2980 images belonging to 3 classes.\n",
      "Found 330 images belonging to 3 classes.\n",
      "Found 567 images belonging to 3 classes.\n"
     ]
    }
   ],
   "source": [
    "#load all images\n",
    "#directory parameter == file path! make sure the relative path is correct!\n",
    "#create a train dataset from the generator\n",
    "#create a test dataset for evaluation\n",
    "#label the batch_size for use later in the code\n",
    "\n",
    "#data augmentation\n",
    "image_generator = ImageDataGenerator(rescale = 1./255,\n",
    "                                  validation_split = .1,\n",
    "                                    horizontal_flip=True,\n",
    "                                    vertical_flip=True,\n",
    "                                    brightness_range=(0.5,.75))\n",
    "\n",
    "test_datagen = ImageDataGenerator(rescale = 1./255)\n",
    "\n",
    "\n",
    "bat_size = 32\n",
    "\n",
    "train_data = image_generator.flow_from_directory(directory = 'COVID-19-Radiography-Database/train',\n",
    "                                                 class_mode='categorical',\n",
    "                                                 color_mode='grayscale',\n",
    "                                                 subset = 'training',\n",
    "                                                 target_size=(256,256),\n",
    "                                                 batch_size=bat_size)\n",
    "\n",
    "#create a validation dataset from the generator\n",
    "val_data = image_generator.flow_from_directory(directory = 'COVID-19-Radiography-Database/train',\n",
    "                                                      class_mode='categorical',\n",
    "                                                      color_mode='grayscale',\n",
    "                                                      subset='validation',\n",
    "                                                      target_size=(256,256),\n",
    "                                                      batch_size=bat_size)\n",
    "#pull in the test data from the directory\n",
    "test_data = test_datagen.flow_from_directory(directory = 'COVID-19-Radiography-Database/test',\n",
    "                                            class_mode = 'categorical',\n",
    "                                            color_mode='grayscale',\n",
    "                                            target_size = (256,256),\n",
    "                                             batch_size = bat_size)"
   ]
  },
  {
   "cell_type": "code",
   "execution_count": 29,
   "metadata": {},
   "outputs": [],
   "source": [
    "#create the neural network\n",
    "model = Sequential()\n",
    "\n",
    "model.add(Conv2D(32, kernel_size = (3,3), activation = 'relu', input_shape = (256,256,1)))\n",
    "model.add(MaxPool2D(pool_size = (2,2)))\n",
    "\n",
    "model.add(Flatten())\n",
    "model.add(Dense(300, activation = 'relu'))\n",
    "model.add(Dense(3, activation='softmax'))\n",
    "\n",
    "#compile the model\n",
    "model.compile(optimizer = 'adam', \n",
    "              loss = 'categorical_crossentropy',\n",
    "              metrics = ['acc', 'Recall'])"
   ]
  },
  {
   "cell_type": "code",
   "execution_count": 30,
   "metadata": {},
   "outputs": [
    {
     "name": "stdout",
     "output_type": "stream",
     "text": [
      "Epoch 1/15\n",
      "93/93 [==============================] - 80s 844ms/step - loss: 6.0993 - acc: 0.6033 - recall: 0.5756 - val_loss: 0.1624 - val_acc: 0.9500 - val_recall: 0.9438\n",
      "Epoch 2/15\n",
      "93/93 [==============================] - 78s 839ms/step - loss: 0.2170 - acc: 0.9223 - recall: 0.9183 - val_loss: 0.1373 - val_acc: 0.9563 - val_recall: 0.9500\n",
      "Epoch 3/15\n",
      "93/93 [==============================] - 78s 841ms/step - loss: 0.1523 - acc: 0.9442 - recall: 0.9421 - val_loss: 0.1287 - val_acc: 0.9563 - val_recall: 0.9563\n",
      "Epoch 4/15\n",
      "93/93 [==============================] - 78s 840ms/step - loss: 0.1331 - acc: 0.9611 - recall: 0.9599 - val_loss: 0.1415 - val_acc: 0.9469 - val_recall: 0.9438\n",
      "Epoch 5/15\n",
      "93/93 [==============================] - 78s 835ms/step - loss: 0.1035 - acc: 0.9654 - recall: 0.9643 - val_loss: 0.1343 - val_acc: 0.9625 - val_recall: 0.9625\n",
      "Epoch 6/15\n",
      "93/93 [==============================] - 78s 838ms/step - loss: 0.0849 - acc: 0.9735 - recall: 0.9725 - val_loss: 0.1755 - val_acc: 0.9375 - val_recall: 0.9344\n",
      "Epoch 7/15\n",
      "93/93 [==============================] - 78s 833ms/step - loss: 0.0564 - acc: 0.9870 - recall: 0.9868 - val_loss: 0.1529 - val_acc: 0.9500 - val_recall: 0.9500\n",
      "Epoch 8/15\n",
      "93/93 [==============================] - 78s 833ms/step - loss: 0.0426 - acc: 0.9877 - recall: 0.9873 - val_loss: 0.1307 - val_acc: 0.9625 - val_recall: 0.9625\n",
      "Epoch 9/15\n",
      "93/93 [==============================] - 77s 831ms/step - loss: 0.0627 - acc: 0.9806 - recall: 0.9798 - val_loss: 0.1431 - val_acc: 0.9625 - val_recall: 0.9594\n",
      "Epoch 10/15\n",
      "93/93 [==============================] - 76s 819ms/step - loss: 0.0472 - acc: 0.9873 - recall: 0.9873 - val_loss: 0.1636 - val_acc: 0.9563 - val_recall: 0.9563\n",
      "Epoch 11/15\n",
      "93/93 [==============================] - 76s 820ms/step - loss: 0.0437 - acc: 0.9877 - recall: 0.9873 - val_loss: 0.1637 - val_acc: 0.9469 - val_recall: 0.9469\n",
      "Epoch 12/15\n",
      "93/93 [==============================] - 77s 822ms/step - loss: 0.0576 - acc: 0.9836 - recall: 0.9836 - val_loss: 0.1302 - val_acc: 0.9625 - val_recall: 0.9625\n",
      "Epoch 13/15\n",
      "93/93 [==============================] - 77s 824ms/step - loss: 0.0382 - acc: 0.9920 - recall: 0.9920 - val_loss: 0.1577 - val_acc: 0.9531 - val_recall: 0.9531\n",
      "Epoch 14/15\n",
      "93/93 [==============================] - 77s 825ms/step - loss: 0.0189 - acc: 0.9950 - recall: 0.9950 - val_loss: 0.1543 - val_acc: 0.9500 - val_recall: 0.9469\n",
      "Epoch 15/15\n",
      "93/93 [==============================] - 77s 824ms/step - loss: 0.0609 - acc: 0.9813 - recall: 0.9807 - val_loss: 0.1430 - val_acc: 0.9531 - val_recall: 0.9531\n"
     ]
    },
    {
     "data": {
      "text/plain": [
       "<tensorflow.python.keras.callbacks.History at 0x1c155c38100>"
      ]
     },
     "execution_count": 30,
     "metadata": {},
     "output_type": "execute_result"
    }
   ],
   "source": [
    "#fit the generator to the model\n",
    "model.fit_generator(train_data,\n",
    "                   validation_data = val_data,\n",
    "                   steps_per_epoch = train_data.n//train_data.batch_size,\n",
    "                   validation_steps = val_data.n//val_data.batch_size,\n",
    "                   epochs = 15)"
   ]
  },
  {
   "cell_type": "code",
   "execution_count": 31,
   "metadata": {},
   "outputs": [
    {
     "name": "stdout",
     "output_type": "stream",
     "text": [
      "18/18 [==============================] - 5s 248ms/step - loss: 0.2428 - acc: 0.9330 - recall: 0.9312\n"
     ]
    },
    {
     "data": {
      "text/plain": [
       "[0.2427818328142166, 0.9329805970191956, 0.9312169551849365]"
      ]
     },
     "execution_count": 31,
     "metadata": {},
     "output_type": "execute_result"
    }
   ],
   "source": [
    "#evaluate the model on the holdout/test data\n",
    "model.evaluate(test_data)"
   ]
  },
  {
   "cell_type": "code",
   "execution_count": null,
   "metadata": {},
   "outputs": [],
   "source": [
    "#save the model\n",
    "model.save('covidpredictor.h5')"
   ]
  },
  {
   "cell_type": "markdown",
   "metadata": {},
   "source": [
    "An iterator can be created for an image dataset located on disk in a specified directory, where images in that directory are organized into subdirectories according to their class."
   ]
  },
  {
   "cell_type": "markdown",
   "metadata": {},
   "source": [
    "Once the iterator is created, it can be used to train a neural network model by calling the fit_generator() function."
   ]
  },
  {
   "cell_type": "code",
   "execution_count": null,
   "metadata": {},
   "outputs": [],
   "source": [
    "##best model so far\n",
    "#create the neural network\n",
    "model = Sequential()\n",
    "\n",
    "model.add(Conv2D(32, kernel_size = (3,3), activation = 'relu', input_shape = (256,256,1)))\n",
    "model.add(MaxPool2D(pool_size = (2,2)))\n",
    "\n",
    "model.add(Flatten())\n",
    "model.add(Dense(320, activation = 'relu'))\n",
    "model.add(Dense(3, activation='softmax'))\n",
    "\n",
    "#compile the model\n",
    "model.compile(optimizer = 'adam', \n",
    "              loss = 'categorical_crossentropy',\n",
    "              metrics = ['acc', 'Recall'])"
   ]
  },
  {
   "cell_type": "code",
   "execution_count": null,
   "metadata": {},
   "outputs": [],
   "source": [
    "#one hidden layer -- 360 nodes\n"
   ]
  },
  {
   "cell_type": "code",
   "execution_count": null,
   "metadata": {},
   "outputs": [],
   "source": []
  },
  {
   "cell_type": "code",
   "execution_count": null,
   "metadata": {},
   "outputs": [],
   "source": []
  }
 ],
 "metadata": {
  "kernelspec": {
   "display_name": "Python 3",
   "language": "python",
   "name": "python3"
  },
  "language_info": {
   "codemirror_mode": {
    "name": "ipython",
    "version": 3
   },
   "file_extension": ".py",
   "mimetype": "text/x-python",
   "name": "python",
   "nbconvert_exporter": "python",
   "pygments_lexer": "ipython3",
   "version": "3.8.5"
  }
 },
 "nbformat": 4,
 "nbformat_minor": 4
}
