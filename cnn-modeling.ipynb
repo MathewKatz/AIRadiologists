{
 "cells": [
  {
   "cell_type": "markdown",
   "metadata": {},
   "source": [
    "## Project 5 - Predicting COVID with Chest X-Rays"
   ]
  },
  {
   "cell_type": "code",
   "execution_count": null,
   "metadata": {},
   "outputs": [],
   "source": [
    "#general imports\n",
    "import pandas as pd\n",
    "import numpy as np\n",
    "import matplotlib.pyplot as plt\n",
    "\n",
    "#image reading in and preprocesing imports\n",
    "import imageio\n",
    "import PIL\n",
    "from PIL import Image\n",
    "import os\n",
    "from tensorflow.keras.preprocessing import image_dataset_from_directory\n",
    "from tensorflow.keras.preprocessing.image import ImageDataGenerator\n",
    "\n",
    "#convolution neural network imports\n",
    "from tensorflow.keras.layers import Dense, Input, Flatten, Conv2D, MaxPool2D\n",
    "from tensorflow.keras.models import Sequential\n",
    "from tensorflow.keras.metrics import Recall, Precision"
   ]
  },
  {
   "cell_type": "code",
   "execution_count": null,
   "metadata": {},
   "outputs": [],
   "source": [
    "#read in photos with ImageDataGenerator\n",
    "#image io, os, pillow"
   ]
  },
  {
   "cell_type": "code",
   "execution_count": null,
   "metadata": {},
   "outputs": [],
   "source": [
    "os.getcwd()"
   ]
  },
  {
   "cell_type": "code",
   "execution_count": null,
   "metadata": {},
   "outputs": [],
   "source": [
    "#load all images\n",
    "#directory parameter == file path! make sure the relative path is correct!\n",
    "#create a train dataset from the generator\n",
    "#label the batch_size for use later in the code\n",
    "\n",
    "#data augmentation\n",
    "image_generator = ImageDataGenerator(rescale = 1./255,\n",
    "                                  validation_split = .2,\n",
    "                                    horizontal_flip=True,\n",
    "                                    vertical_flip=True,\n",
    "                                    brightness_range=(0.5,.75))\n",
    "\n",
    "\n",
    "bat_size = 32\n",
    "\n",
    "train_data = image_generator.flow_from_directory(directory = 'COVID-19-Radiography-Database/',\n",
    "                                                 class_mode='categorical',\n",
    "                                                 color_mode='grayscale',\n",
    "                                                 subset = 'training',\n",
    "                                                 target_size=(256,256),\n",
    "                                                 batch_size=bat_size)\n",
    "\n",
    "#create a validation dataset from the generator\n",
    "val_data = image_generator.flow_from_directory(directory = 'COVID-19-Radiography-Database/',\n",
    "                                                      class_mode='categorical',\n",
    "                                                      color_mode='grayscale',\n",
    "                                                      subset='validation',\n",
    "                                                      target_size=(256,256),\n",
    "                                                      batch_size=bat_size)"
   ]
  },
  {
   "cell_type": "code",
   "execution_count": null,
   "metadata": {},
   "outputs": [],
   "source": [
    "#create the neural network\n",
    "model = Sequential()\n",
    "\n",
    "model.add(Conv2D(32, kernel_size = (3,3), activation = 'relu', input_shape = (256,256,1)))\n",
    "model.add(MaxPool2D(pool_size = (2,2)))\n",
    "\n",
    "model.add(Flatten())\n",
    "model.add(Dense(320, activation = 'relu'))\n",
    "model.add(Dense(3, activation='softmax'))\n",
    "\n",
    "#compile the model\n",
    "model.compile(optimizer = 'adam', \n",
    "              loss = 'categorical_crossentropy',\n",
    "              metrics = ['acc', 'Recall', 'Precision' ])"
   ]
  },
  {
   "cell_type": "code",
   "execution_count": null,
   "metadata": {},
   "outputs": [],
   "source": [
    "#fit the generator to the model\n",
    "model.fit_generator(train_data,\n",
    "                   validation_data = val_data,\n",
    "                   steps_per_epoch = train_data.n//train_data.batch_size,\n",
    "                   validation_steps = val_data.n//val_data.batch_size,\n",
    "                   epochs = 15)"
   ]
  },
  {
   "cell_type": "code",
   "execution_count": null,
   "metadata": {},
   "outputs": [],
   "source": [
    "#save the model\n",
    "model.save('covidpredictor.h5')"
   ]
  },
  {
   "cell_type": "markdown",
   "metadata": {},
   "source": [
    "An iterator can be created for an image dataset located on disk in a specified directory, where images in that directory are organized into subdirectories according to their class."
   ]
  },
  {
   "cell_type": "markdown",
   "metadata": {},
   "source": [
    "Once the iterator is created, it can be used to train a neural network model by calling the fit_generator() function."
   ]
  }
 ],
 "metadata": {
  "kernelspec": {
   "display_name": "Python 3",
   "language": "python",
   "name": "python3"
  },
  "language_info": {
   "codemirror_mode": {
    "name": "ipython",
    "version": 3
   },
   "file_extension": ".py",
   "mimetype": "text/x-python",
   "name": "python",
   "nbconvert_exporter": "python",
   "pygments_lexer": "ipython3",
   "version": "3.8.5"
  }
 },
 "nbformat": 4,
 "nbformat_minor": 4
}
