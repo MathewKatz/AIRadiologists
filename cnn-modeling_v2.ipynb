{
 "cells": [
  {
   "cell_type": "markdown",
   "metadata": {},
   "source": [
    "## Project 5 - Predicting COVID with Chest X-Rays"
   ]
  },
  {
   "cell_type": "code",
   "execution_count": 40,
   "metadata": {},
   "outputs": [],
   "source": [
    "#import libraries\n",
    "import pandas as pd\n",
    "import numpy as np\n",
    "import matplotlib.pyplot as plt\n",
    "import seaborn as sns\n",
    "import pathlib\n",
    "import imageio\n",
    "import PIL\n",
    "from PIL import Image\n",
    "import os\n",
    "from pandas import DataFrame\n",
    "\n",
    "#modelling imports\n",
    "from tensorflow.keras.preprocessing import image_dataset_from_directory\n",
    "from tensorflow.keras.preprocessing.image import ImageDataGenerator\n",
    "from tensorflow.keras.layers import Dense, Input, Flatten, Conv2D, MaxPool2D\n",
    "from tensorflow.keras.models import Sequential\n",
    "from tensorflow.keras.metrics import Recall, Precision\n",
    "from sklearn.metrics import classification_report\n",
    "from keras.applications import MobileNetV2, VGG16, InceptionV3, Xception\n",
    "from keras.layers import GlobalAveragePooling2D\n",
    "from keras.utils import to_categorical"
   ]
  },
  {
   "cell_type": "markdown",
   "metadata": {},
   "source": [
    "#### Reading in the images and making a dataframe for later use"
   ]
  },
  {
   "cell_type": "code",
   "execution_count": 6,
   "metadata": {},
   "outputs": [],
   "source": [
    "#read in photos with ImageDataGenerator\n",
    "#image io, os, pillow"
   ]
  },
  {
   "cell_type": "code",
   "execution_count": 3,
   "metadata": {},
   "outputs": [
    {
     "data": {
      "text/plain": [
       "'/Users/melissamcmillan/Documents/Python_Stuff/GA_DSI_Course/Project_5/AIRadiologists'"
      ]
     },
     "execution_count": 3,
     "metadata": {},
     "output_type": "execute_result"
    }
   ],
   "source": [
    "os.getcwd()"
   ]
  },
  {
   "cell_type": "code",
   "execution_count": 4,
   "metadata": {},
   "outputs": [
    {
     "name": "stdout",
     "output_type": "stream",
     "text": [
      "961\n"
     ]
    }
   ],
   "source": [
    "files = os.listdir('COVID-19 Radiography Database Split/TRAIN/COVID_train/')\n",
    "print(len(files))"
   ]
  },
  {
   "cell_type": "code",
   "execution_count": 9,
   "metadata": {},
   "outputs": [
    {
     "data": {
      "text/plain": [
       "960"
      ]
     },
     "execution_count": 9,
     "metadata": {},
     "output_type": "execute_result"
    }
   ],
   "source": [
    "#make covid_images your variable to the directory where you have stored the COVID x-ray images\n",
    "covid_images = 'COVID-19 Radiography Database Split/TRAIN/COVID_train/'\n",
    "\n",
    "#this will loop through the images in the covid directory and add each image to the master list\n",
    "covid_files = []\n",
    "for filename in os.listdir(covid_images):\n",
    "    if filename.endswith(\".png\"): \n",
    "         # print(os.path.join(directory, filename))\n",
    "        covid_files.append(filename)\n",
    "\n",
    "#check the length of the master list to make sure it's what we expect; should return 1200 in this case\n",
    "len(covid_files)"
   ]
  },
  {
   "cell_type": "code",
   "execution_count": 10,
   "metadata": {},
   "outputs": [
    {
     "data": {
      "text/plain": [
       "1073"
      ]
     },
     "execution_count": 10,
     "metadata": {},
     "output_type": "execute_result"
    }
   ],
   "source": [
    "#make normal_images your variable to the directory where you have stored the COVID x-ray images\n",
    "normal_images = 'COVID-19 Radiography Database Split/TRAIN/NORMAL_train/'\n",
    "\n",
    "#this will loop through the images in the covid directory and add each image to the master list\n",
    "normal_files = []\n",
    "for filename in os.listdir(normal_images):\n",
    "    if filename.endswith(\".png\"): \n",
    "         # print(os.path.join(directory, filename))\n",
    "        normal_files.append(filename)\n",
    "\n",
    "#check the length of the master list to make sure it's what we expect; should return 1200 in this case\n",
    "len(normal_files)"
   ]
  },
  {
   "cell_type": "code",
   "execution_count": 11,
   "metadata": {},
   "outputs": [
    {
     "data": {
      "text/plain": [
       "1076"
      ]
     },
     "execution_count": 11,
     "metadata": {},
     "output_type": "execute_result"
    }
   ],
   "source": [
    "#make covid_images your variable to the directory where you have stored the COVID x-ray images\n",
    "pneum_images = 'COVID-19 Radiography Database Split/TRAIN/Viral_Pneumonia_train/'\n",
    "\n",
    "#this will loop through the images in the covid directory and add each image to the master list\n",
    "pneum_files = []\n",
    "for filename in os.listdir(pneum_images):\n",
    "    if filename.endswith(\".png\"): \n",
    "         # print(os.path.join(directory, filename))\n",
    "        pneum_files.append(filename)\n",
    "\n",
    "#check the length of the master list to make sure it's what we expect; should return 1200 in this case\n",
    "len(pneum_files)"
   ]
  },
  {
   "cell_type": "code",
   "execution_count": 15,
   "metadata": {},
   "outputs": [
    {
     "data": {
      "text/plain": [
       "3109"
      ]
     },
     "execution_count": 15,
     "metadata": {},
     "output_type": "execute_result"
    }
   ],
   "source": [
    "#now making a master list for all the images\n",
    "master_list = []\n",
    "for element in covid_files:\n",
    "    master_list.append(Image.open(covid_images + element))\n",
    "for element in normal_files:\n",
    "    master_list.append(Image.open(normal_images + element))\n",
    "for element in pneum_files:\n",
    "    master_list.append(Image.open(pneum_images + element))\n",
    "len(master_list)"
   ]
  },
  {
   "cell_type": "code",
   "execution_count": 16,
   "metadata": {},
   "outputs": [
    {
     "data": {
      "text/html": [
       "<div>\n",
       "<style scoped>\n",
       "    .dataframe tbody tr th:only-of-type {\n",
       "        vertical-align: middle;\n",
       "    }\n",
       "\n",
       "    .dataframe tbody tr th {\n",
       "        vertical-align: top;\n",
       "    }\n",
       "\n",
       "    .dataframe thead th {\n",
       "        text-align: right;\n",
       "    }\n",
       "</style>\n",
       "<table border=\"1\" class=\"dataframe\">\n",
       "  <thead>\n",
       "    <tr style=\"text-align: right;\">\n",
       "      <th></th>\n",
       "      <th>images</th>\n",
       "      <th>type</th>\n",
       "    </tr>\n",
       "  </thead>\n",
       "  <tbody>\n",
       "    <tr>\n",
       "      <th>0</th>\n",
       "      <td>&lt;PIL.PngImagePlugin.PngImageFile image mode=L ...</td>\n",
       "      <td>covid</td>\n",
       "    </tr>\n",
       "    <tr>\n",
       "      <th>1</th>\n",
       "      <td>&lt;PIL.PngImagePlugin.PngImageFile image mode=L ...</td>\n",
       "      <td>covid</td>\n",
       "    </tr>\n",
       "    <tr>\n",
       "      <th>2</th>\n",
       "      <td>&lt;PIL.PngImagePlugin.PngImageFile image mode=L ...</td>\n",
       "      <td>covid</td>\n",
       "    </tr>\n",
       "    <tr>\n",
       "      <th>3</th>\n",
       "      <td>&lt;PIL.PngImagePlugin.PngImageFile image mode=L ...</td>\n",
       "      <td>covid</td>\n",
       "    </tr>\n",
       "    <tr>\n",
       "      <th>4</th>\n",
       "      <td>&lt;PIL.PngImagePlugin.PngImageFile image mode=L ...</td>\n",
       "      <td>covid</td>\n",
       "    </tr>\n",
       "    <tr>\n",
       "      <th>...</th>\n",
       "      <td>...</td>\n",
       "      <td>...</td>\n",
       "    </tr>\n",
       "    <tr>\n",
       "      <th>3104</th>\n",
       "      <td>&lt;PIL.PngImagePlugin.PngImageFile image mode=L ...</td>\n",
       "      <td>covid</td>\n",
       "    </tr>\n",
       "    <tr>\n",
       "      <th>3105</th>\n",
       "      <td>&lt;PIL.PngImagePlugin.PngImageFile image mode=L ...</td>\n",
       "      <td>covid</td>\n",
       "    </tr>\n",
       "    <tr>\n",
       "      <th>3106</th>\n",
       "      <td>&lt;PIL.PngImagePlugin.PngImageFile image mode=L ...</td>\n",
       "      <td>covid</td>\n",
       "    </tr>\n",
       "    <tr>\n",
       "      <th>3107</th>\n",
       "      <td>&lt;PIL.PngImagePlugin.PngImageFile image mode=L ...</td>\n",
       "      <td>covid</td>\n",
       "    </tr>\n",
       "    <tr>\n",
       "      <th>3108</th>\n",
       "      <td>&lt;PIL.PngImagePlugin.PngImageFile image mode=L ...</td>\n",
       "      <td>covid</td>\n",
       "    </tr>\n",
       "  </tbody>\n",
       "</table>\n",
       "<p>3109 rows × 2 columns</p>\n",
       "</div>"
      ],
      "text/plain": [
       "                                                 images   type\n",
       "0     <PIL.PngImagePlugin.PngImageFile image mode=L ...  covid\n",
       "1     <PIL.PngImagePlugin.PngImageFile image mode=L ...  covid\n",
       "2     <PIL.PngImagePlugin.PngImageFile image mode=L ...  covid\n",
       "3     <PIL.PngImagePlugin.PngImageFile image mode=L ...  covid\n",
       "4     <PIL.PngImagePlugin.PngImageFile image mode=L ...  covid\n",
       "...                                                 ...    ...\n",
       "3104  <PIL.PngImagePlugin.PngImageFile image mode=L ...  covid\n",
       "3105  <PIL.PngImagePlugin.PngImageFile image mode=L ...  covid\n",
       "3106  <PIL.PngImagePlugin.PngImageFile image mode=L ...  covid\n",
       "3107  <PIL.PngImagePlugin.PngImageFile image mode=L ...  covid\n",
       "3108  <PIL.PngImagePlugin.PngImageFile image mode=L ...  covid\n",
       "\n",
       "[3109 rows x 2 columns]"
      ]
     },
     "execution_count": 16,
     "metadata": {},
     "output_type": "execute_result"
    }
   ],
   "source": [
    "#now making a master dataframe for all of our train images\n",
    "images_df = DataFrame(master_list, columns = ['images'])\n",
    "images_df['type'] = 'covid'\n",
    "images_df"
   ]
  },
  {
   "cell_type": "code",
   "execution_count": 20,
   "metadata": {},
   "outputs": [
    {
     "data": {
      "text/html": [
       "<div>\n",
       "<style scoped>\n",
       "    .dataframe tbody tr th:only-of-type {\n",
       "        vertical-align: middle;\n",
       "    }\n",
       "\n",
       "    .dataframe tbody tr th {\n",
       "        vertical-align: top;\n",
       "    }\n",
       "\n",
       "    .dataframe thead th {\n",
       "        text-align: right;\n",
       "    }\n",
       "</style>\n",
       "<table border=\"1\" class=\"dataframe\">\n",
       "  <thead>\n",
       "    <tr style=\"text-align: right;\">\n",
       "      <th></th>\n",
       "      <th>images</th>\n",
       "      <th>type</th>\n",
       "    </tr>\n",
       "  </thead>\n",
       "  <tbody>\n",
       "    <tr>\n",
       "      <th>0</th>\n",
       "      <td>&lt;PIL.PngImagePlugin.PngImageFile image mode=L ...</td>\n",
       "      <td>covid</td>\n",
       "    </tr>\n",
       "    <tr>\n",
       "      <th>1</th>\n",
       "      <td>&lt;PIL.PngImagePlugin.PngImageFile image mode=L ...</td>\n",
       "      <td>covid</td>\n",
       "    </tr>\n",
       "    <tr>\n",
       "      <th>2</th>\n",
       "      <td>&lt;PIL.PngImagePlugin.PngImageFile image mode=L ...</td>\n",
       "      <td>covid</td>\n",
       "    </tr>\n",
       "    <tr>\n",
       "      <th>3</th>\n",
       "      <td>&lt;PIL.PngImagePlugin.PngImageFile image mode=L ...</td>\n",
       "      <td>covid</td>\n",
       "    </tr>\n",
       "    <tr>\n",
       "      <th>4</th>\n",
       "      <td>&lt;PIL.PngImagePlugin.PngImageFile image mode=L ...</td>\n",
       "      <td>covid</td>\n",
       "    </tr>\n",
       "    <tr>\n",
       "      <th>...</th>\n",
       "      <td>...</td>\n",
       "      <td>...</td>\n",
       "    </tr>\n",
       "    <tr>\n",
       "      <th>3104</th>\n",
       "      <td>&lt;PIL.PngImagePlugin.PngImageFile image mode=L ...</td>\n",
       "      <td>pneumonia</td>\n",
       "    </tr>\n",
       "    <tr>\n",
       "      <th>3105</th>\n",
       "      <td>&lt;PIL.PngImagePlugin.PngImageFile image mode=L ...</td>\n",
       "      <td>pneumonia</td>\n",
       "    </tr>\n",
       "    <tr>\n",
       "      <th>3106</th>\n",
       "      <td>&lt;PIL.PngImagePlugin.PngImageFile image mode=L ...</td>\n",
       "      <td>pneumonia</td>\n",
       "    </tr>\n",
       "    <tr>\n",
       "      <th>3107</th>\n",
       "      <td>&lt;PIL.PngImagePlugin.PngImageFile image mode=L ...</td>\n",
       "      <td>pneumonia</td>\n",
       "    </tr>\n",
       "    <tr>\n",
       "      <th>3108</th>\n",
       "      <td>&lt;PIL.PngImagePlugin.PngImageFile image mode=L ...</td>\n",
       "      <td>pneumonia</td>\n",
       "    </tr>\n",
       "  </tbody>\n",
       "</table>\n",
       "<p>3109 rows × 2 columns</p>\n",
       "</div>"
      ],
      "text/plain": [
       "                                                 images       type\n",
       "0     <PIL.PngImagePlugin.PngImageFile image mode=L ...      covid\n",
       "1     <PIL.PngImagePlugin.PngImageFile image mode=L ...      covid\n",
       "2     <PIL.PngImagePlugin.PngImageFile image mode=L ...      covid\n",
       "3     <PIL.PngImagePlugin.PngImageFile image mode=L ...      covid\n",
       "4     <PIL.PngImagePlugin.PngImageFile image mode=L ...      covid\n",
       "...                                                 ...        ...\n",
       "3104  <PIL.PngImagePlugin.PngImageFile image mode=L ...  pneumonia\n",
       "3105  <PIL.PngImagePlugin.PngImageFile image mode=L ...  pneumonia\n",
       "3106  <PIL.PngImagePlugin.PngImageFile image mode=L ...  pneumonia\n",
       "3107  <PIL.PngImagePlugin.PngImageFile image mode=L ...  pneumonia\n",
       "3108  <PIL.PngImagePlugin.PngImageFile image mode=L ...  pneumonia\n",
       "\n",
       "[3109 rows x 2 columns]"
      ]
     },
     "execution_count": 20,
     "metadata": {},
     "output_type": "execute_result"
    }
   ],
   "source": [
    "#fixing the type labels to match the data\n",
    "images_df['type'].iloc[960:2032] = 'normal'\n",
    "images_df['type'].iloc[2033:] = 'pneumonia'\n",
    "images_df"
   ]
  },
  {
   "cell_type": "code",
   "execution_count": 22,
   "metadata": {},
   "outputs": [
    {
     "data": {
      "text/plain": [
       "<matplotlib.image.AxesImage at 0x7fa0c8084ca0>"
      ]
     },
     "execution_count": 22,
     "metadata": {},
     "output_type": "execute_result"
    },
    {
     "data": {
      "image/png": "[encoded data removed]",
      "text/plain": [
       "<Figure size 432x288 with 1 Axes>"
      ]
     },
     "metadata": {
      "needs_background": "light"
     },
     "output_type": "display_data"
    }
   ],
   "source": [
    "plt.imshow(images_df['images'].iloc[-1], cmap = 'gray')"
   ]
  },
  {
   "cell_type": "code",
   "execution_count": null,
   "metadata": {},
   "outputs": [],
   "source": []
  },
  {
   "cell_type": "markdown",
   "metadata": {},
   "source": [
    "#### Ready to Start the Modelling"
   ]
  },
  {
   "cell_type": "markdown",
   "metadata": {},
   "source": [
    "##### Making a Null Model"
   ]
  },
  {
   "cell_type": "code",
   "execution_count": 24,
   "metadata": {},
   "outputs": [
    {
     "data": {
      "text/plain": [
       "pneumonia    0.346092\n",
       "normal       0.344805\n",
       "covid        0.309103\n",
       "Name: type, dtype: float64"
      ]
     },
     "execution_count": 24,
     "metadata": {},
     "output_type": "execute_result"
    }
   ],
   "source": [
    "#we are going to use the value counts to figure out which class has the most images in our train set, then use that number as our null:\n",
    "images_df['type'].value_counts(normalize=True)"
   ]
  },
  {
   "cell_type": "code",
   "execution_count": null,
   "metadata": {},
   "outputs": [],
   "source": [
    "#It looks like our null is viral_pneumonia, and our baseline is ~35%"
   ]
  },
  {
   "cell_type": "code",
   "execution_count": null,
   "metadata": {},
   "outputs": [],
   "source": []
  },
  {
   "cell_type": "markdown",
   "metadata": {},
   "source": [
    "##### Model 1: Testing initial hyperparams in the ImageDataGenerator"
   ]
  },
  {
   "cell_type": "code",
   "execution_count": 25,
   "metadata": {},
   "outputs": [
    {
     "name": "stdout",
     "output_type": "stream",
     "text": [
      "Found 2799 images belonging to 3 classes.\n",
      "Found 310 images belonging to 3 classes.\n",
      "Found 777 images belonging to 3 classes.\n"
     ]
    }
   ],
   "source": [
    "#load all images\n",
    "#directory parameter == file path! make sure the relative path is correct!\n",
    "#create a train dataset from the generator\n",
    "#create a test dataset for evaluation\n",
    "#label the batch_size for use later in the code\n",
    "\n",
    "#data augmentation\n",
    "image_generator = ImageDataGenerator(rescale = 1./255,\n",
    "                                  validation_split = .1,\n",
    "                                    horizontal_flip=True,\n",
    "                                    vertical_flip=True,\n",
    "                                    brightness_range=(0.5,.75))\n",
    "\n",
    "test_datagen = ImageDataGenerator(rescale = 1./255)\n",
    "\n",
    "\n",
    "bat_size = 32\n",
    "\n",
    "train_data = image_generator.flow_from_directory(directory = 'COVID-19 Radiography Database Split/TRAIN',\n",
    "                                                 class_mode='categorical',\n",
    "                                                 color_mode='grayscale',\n",
    "                                                 subset = 'training',\n",
    "                                                 target_size=(256,256),\n",
    "                                                 batch_size=bat_size)\n",
    "\n",
    "#create a validation dataset from the generator\n",
    "val_data = image_generator.flow_from_directory(directory = 'COVID-19 Radiography Database Split/TRAIN',\n",
    "                                                      class_mode='categorical',\n",
    "                                                      color_mode='grayscale',\n",
    "                                                      subset='validation',\n",
    "                                                      target_size=(256,256),\n",
    "                                                      batch_size=bat_size)\n",
    "#pull in the test data from the directory\n",
    "test_data = test_datagen.flow_from_directory(directory = 'COVID-19 Radiography Database Split/TEST',\n",
    "                                            class_mode = 'categorical',\n",
    "                                            color_mode='grayscale',\n",
    "                                            target_size = (256,256),\n",
    "                                             batch_size = bat_size)"
   ]
  },
  {
   "cell_type": "code",
   "execution_count": 26,
   "metadata": {},
   "outputs": [],
   "source": [
    "#create the neural network\n",
    "model1 = Sequential()\n",
    "\n",
    "model1.add(Conv2D(32, kernel_size = (3,3), activation = 'relu', input_shape = (256,256,1)))\n",
    "model1.add(MaxPool2D(pool_size = (2,2)))\n",
    "\n",
    "model1.add(Flatten())\n",
    "model1.add(Dense(300, activation = 'relu'))\n",
    "model1.add(Dense(3, activation='softmax'))\n",
    "\n",
    "#compile the model\n",
    "model1.compile(optimizer = 'adam', \n",
    "              loss = 'categorical_crossentropy',\n",
    "              metrics = ['acc', 'Recall'])"
   ]
  },
  {
   "cell_type": "code",
   "execution_count": 27,
   "metadata": {},
   "outputs": [
    {
     "name": "stderr",
     "output_type": "stream",
     "text": [
      "/Users/melissamcmillan/opt/anaconda3/lib/python3.8/site-packages/tensorflow/python/keras/engine/training.py:1844: UserWarning: `Model.fit_generator` is deprecated and will be removed in a future version. Please use `Model.fit`, which supports generators.\n",
      "  warnings.warn('`Model.fit_generator` is deprecated and '\n"
     ]
    },
    {
     "name": "stdout",
     "output_type": "stream",
     "text": [
      "Epoch 1/15\n",
      "87/87 [==============================] - 101s 1s/step - loss: 5.1680 - acc: 0.6427 - recall: 0.6184 - val_loss: 0.2479 - val_acc: 0.9062 - val_recall: 0.9028\n",
      "Epoch 2/15\n",
      "87/87 [==============================] - 84s 958ms/step - loss: 0.2941 - acc: 0.8986 - recall: 0.8874 - val_loss: 0.1794 - val_acc: 0.9444 - val_recall: 0.9444\n",
      "Epoch 3/15\n",
      "87/87 [==============================] - 78s 894ms/step - loss: 0.1975 - acc: 0.9263 - recall: 0.9194 - val_loss: 0.1464 - val_acc: 0.9479 - val_recall: 0.9479\n",
      "Epoch 4/15\n",
      "87/87 [==============================] - 78s 898ms/step - loss: 0.1375 - acc: 0.9492 - recall: 0.9463 - val_loss: 0.1592 - val_acc: 0.9271 - val_recall: 0.9236\n",
      "Epoch 5/15\n",
      "87/87 [==============================] - 77s 887ms/step - loss: 0.1230 - acc: 0.9602 - recall: 0.9580 - val_loss: 0.1023 - val_acc: 0.9583 - val_recall: 0.9583\n",
      "Epoch 6/15\n",
      "87/87 [==============================] - 77s 887ms/step - loss: 0.1016 - acc: 0.9720 - recall: 0.9690 - val_loss: 0.1070 - val_acc: 0.9653 - val_recall: 0.9653\n",
      "Epoch 7/15\n",
      "87/87 [==============================] - 78s 892ms/step - loss: 0.0792 - acc: 0.9741 - recall: 0.9730 - val_loss: 0.1100 - val_acc: 0.9618 - val_recall: 0.9618\n",
      "Epoch 8/15\n",
      "87/87 [==============================] - 79s 901ms/step - loss: 0.0663 - acc: 0.9788 - recall: 0.9772 - val_loss: 0.1694 - val_acc: 0.9549 - val_recall: 0.9514\n",
      "Epoch 9/15\n",
      "87/87 [==============================] - 85s 976ms/step - loss: 0.0969 - acc: 0.9694 - recall: 0.9677 - val_loss: 0.1458 - val_acc: 0.9514 - val_recall: 0.9514\n",
      "Epoch 10/15\n",
      "87/87 [==============================] - 84s 965ms/step - loss: 0.0553 - acc: 0.9850 - recall: 0.9844 - val_loss: 0.0854 - val_acc: 0.9688 - val_recall: 0.9688\n",
      "Epoch 11/15\n",
      "87/87 [==============================] - 84s 959ms/step - loss: 0.0431 - acc: 0.9869 - recall: 0.9869 - val_loss: 0.1307 - val_acc: 0.9444 - val_recall: 0.9444\n",
      "Epoch 12/15\n",
      "87/87 [==============================] - 79s 906ms/step - loss: 0.0398 - acc: 0.9879 - recall: 0.9877 - val_loss: 0.1225 - val_acc: 0.9653 - val_recall: 0.9653\n",
      "Epoch 13/15\n",
      "87/87 [==============================] - 77s 885ms/step - loss: 0.0211 - acc: 0.9939 - recall: 0.9939 - val_loss: 0.0912 - val_acc: 0.9688 - val_recall: 0.9688\n",
      "Epoch 14/15\n",
      "87/87 [==============================] - 76s 869ms/step - loss: 0.0296 - acc: 0.9918 - recall: 0.9918 - val_loss: 0.1170 - val_acc: 0.9618 - val_recall: 0.9618\n",
      "Epoch 15/15\n",
      "87/87 [==============================] - 76s 869ms/step - loss: 0.0270 - acc: 0.9941 - recall: 0.9941 - val_loss: 0.0875 - val_acc: 0.9722 - val_recall: 0.9722\n"
     ]
    }
   ],
   "source": [
    "#fit the generator to the model\n",
    "history1 = model1.fit_generator(train_data,\n",
    "                   validation_data = val_data,\n",
    "                   steps_per_epoch = train_data.n//train_data.batch_size,\n",
    "                   validation_steps = val_data.n//val_data.batch_size,\n",
    "                   epochs = 15)"
   ]
  },
  {
   "cell_type": "code",
   "execution_count": 28,
   "metadata": {},
   "outputs": [
    {
     "data": {
      "image/png": "[encoded data removed]",
      "text/plain": [
       "<Figure size 432x288 with 1 Axes>"
      ]
     },
     "metadata": {
      "needs_background": "light"
     },
     "output_type": "display_data"
    }
   ],
   "source": [
    "plt.plot(history1.history['acc'], label='Train Accuracy')\n",
    "plt.plot(history1.history['val_acc'], label='Val Accuracy')\n",
    "plt.title('Accuracy for Train vs Validation')\n",
    "plt.legend();"
   ]
  },
  {
   "cell_type": "code",
   "execution_count": 29,
   "metadata": {},
   "outputs": [
    {
     "data": {
      "image/png": "[encoded data removed]",
      "text/plain": [
       "<Figure size 432x288 with 1 Axes>"
      ]
     },
     "metadata": {
      "needs_background": "light"
     },
     "output_type": "display_data"
    }
   ],
   "source": [
    "plt.plot(history1.history['recall'], label='Train Recall')\n",
    "plt.plot(history1.history['val_recall'], label='Val Recall')\n",
    "plt.title('Recall for Train vs Validation')\n",
    "plt.legend();"
   ]
  },
  {
   "cell_type": "code",
   "execution_count": 30,
   "metadata": {},
   "outputs": [
    {
     "name": "stdout",
     "output_type": "stream",
     "text": [
      "25/25 [==============================] - 9s 371ms/step - loss: 0.1946 - acc: 0.9434 - recall: 0.9434\n"
     ]
    },
    {
     "data": {
      "text/plain": [
       "[0.19464752078056335, 0.9433719515800476, 0.9433719515800476]"
      ]
     },
     "execution_count": 30,
     "metadata": {},
     "output_type": "execute_result"
    }
   ],
   "source": [
    "model1.evaluate(test_data)"
   ]
  },
  {
   "cell_type": "code",
   "execution_count": null,
   "metadata": {},
   "outputs": [],
   "source": [
    "#Model 1 is our best model--- here is the code to export it"
   ]
  },
  {
   "cell_type": "code",
   "execution_count": null,
   "metadata": {},
   "outputs": [],
   "source": [
    "#save the model\n",
    "#model1.save('model1_cnn_31Jan2021_best')"
   ]
  },
  {
   "cell_type": "markdown",
   "metadata": {},
   "source": [
    "##### Model 2: Testing if adding an additional Edge Detection layer improves our model, and reducing the nodes to 100 in the Dense layer."
   ]
  },
  {
   "cell_type": "code",
   "execution_count": 31,
   "metadata": {},
   "outputs": [
    {
     "name": "stdout",
     "output_type": "stream",
     "text": [
      "Found 2799 images belonging to 3 classes.\n",
      "Found 310 images belonging to 3 classes.\n",
      "Found 777 images belonging to 3 classes.\n"
     ]
    }
   ],
   "source": [
    "#load all images\n",
    "#directory parameter == file path! make sure the relative path is correct!\n",
    "#create a train dataset from the generator\n",
    "#create a test dataset for evaluation\n",
    "#label the batch_size for use later in the code\n",
    "\n",
    "#data augmentation\n",
    "image_generator = ImageDataGenerator(rescale = 1./255,\n",
    "                                  validation_split = .1,\n",
    "                                    horizontal_flip=True,\n",
    "                                    vertical_flip=True,\n",
    "                                    brightness_range=(0.5,.75))\n",
    "\n",
    "test_datagen = ImageDataGenerator(rescale = 1./255)\n",
    "\n",
    "\n",
    "bat_size = 32\n",
    "\n",
    "train_data = image_generator.flow_from_directory(directory = 'COVID-19 Radiography Database Split/TRAIN',\n",
    "                                                 class_mode='categorical',\n",
    "                                                 color_mode='grayscale',\n",
    "                                                 subset = 'training',\n",
    "                                                 target_size=(256,256),\n",
    "                                                 batch_size=bat_size)\n",
    "\n",
    "#create a validation dataset from the generator\n",
    "val_data = image_generator.flow_from_directory(directory = 'COVID-19 Radiography Database Split/TRAIN',\n",
    "                                                      class_mode='categorical',\n",
    "                                                      color_mode='grayscale',\n",
    "                                                      subset='validation',\n",
    "                                                      target_size=(256,256),\n",
    "                                                      batch_size=bat_size)\n",
    "#pull in the test data from the directory\n",
    "test_data = test_datagen.flow_from_directory(directory = 'COVID-19 Radiography Database Split/TEST',\n",
    "                                            class_mode = 'categorical',\n",
    "                                            color_mode='grayscale',\n",
    "                                            target_size = (256,256),\n",
    "                                             batch_size = bat_size)"
   ]
  },
  {
   "cell_type": "code",
   "execution_count": 32,
   "metadata": {},
   "outputs": [],
   "source": [
    "#create the neural network\n",
    "model2 = Sequential()\n",
    "\n",
    "model2.add(Conv2D(32, kernel_size = (3,3), activation = 'relu', input_shape = (256,256,1)))\n",
    "model2.add(MaxPool2D(pool_size = (2,2)))\n",
    "model2.add(Conv2D(32, kernel_size = (3,3), activation = 'relu', input_shape = (256,256,1)))\n",
    "model2.add(MaxPool2D(pool_size = (2,2)))\n",
    "\n",
    "model2.add(Flatten())\n",
    "model2.add(Dense(100, activation = 'relu'))\n",
    "model2.add(Dense(3, activation='softmax'))\n",
    "\n",
    "#compile the model\n",
    "model2.compile(optimizer = 'adam', \n",
    "              loss = 'categorical_crossentropy',\n",
    "              metrics = ['acc', 'Recall'])"
   ]
  },
  {
   "cell_type": "code",
   "execution_count": 33,
   "metadata": {},
   "outputs": [
    {
     "name": "stdout",
     "output_type": "stream",
     "text": [
      "Epoch 1/15\n",
      "87/87 [==============================] - 75s 850ms/step - loss: 1.2585 - acc: 0.5695 - recall: 0.3922 - val_loss: 0.2248 - val_acc: 0.9201 - val_recall: 0.9201\n",
      "Epoch 2/15\n",
      "87/87 [==============================] - 67s 770ms/step - loss: 0.2834 - acc: 0.8995 - recall: 0.8927 - val_loss: 0.1666 - val_acc: 0.9479 - val_recall: 0.9479\n",
      "Epoch 3/15\n",
      "87/87 [==============================] - 61s 695ms/step - loss: 0.2873 - acc: 0.9029 - recall: 0.8947 - val_loss: 0.2584 - val_acc: 0.9062 - val_recall: 0.8993\n",
      "Epoch 4/15\n",
      "87/87 [==============================] - 61s 700ms/step - loss: 0.2178 - acc: 0.9216 - recall: 0.9173 - val_loss: 0.1402 - val_acc: 0.9583 - val_recall: 0.9583\n",
      "Epoch 5/15\n",
      "87/87 [==============================] - 62s 710ms/step - loss: 0.1556 - acc: 0.9409 - recall: 0.9387 - val_loss: 0.1393 - val_acc: 0.9444 - val_recall: 0.9444\n",
      "Epoch 6/15\n",
      "87/87 [==============================] - 62s 707ms/step - loss: 0.1478 - acc: 0.9511 - recall: 0.9478 - val_loss: 0.1298 - val_acc: 0.9514 - val_recall: 0.9479\n",
      "Epoch 7/15\n",
      "87/87 [==============================] - 62s 711ms/step - loss: 0.1643 - acc: 0.9422 - recall: 0.9403 - val_loss: 0.2053 - val_acc: 0.9236 - val_recall: 0.9201\n",
      "Epoch 8/15\n",
      "87/87 [==============================] - 64s 730ms/step - loss: 0.1177 - acc: 0.9592 - recall: 0.9576 - val_loss: 0.1670 - val_acc: 0.9375 - val_recall: 0.9375\n",
      "Epoch 9/15\n",
      "87/87 [==============================] - 63s 721ms/step - loss: 0.1114 - acc: 0.9659 - recall: 0.9646 - val_loss: 0.1385 - val_acc: 0.9479 - val_recall: 0.9444\n",
      "Epoch 10/15\n",
      "87/87 [==============================] - 61s 702ms/step - loss: 0.0950 - acc: 0.9655 - recall: 0.9654 - val_loss: 0.1825 - val_acc: 0.9410 - val_recall: 0.9410\n",
      "Epoch 11/15\n",
      "87/87 [==============================] - 61s 696ms/step - loss: 0.0734 - acc: 0.9751 - recall: 0.9739 - val_loss: 0.1793 - val_acc: 0.9444 - val_recall: 0.9444\n",
      "Epoch 12/15\n",
      "87/87 [==============================] - 60s 692ms/step - loss: 0.0831 - acc: 0.9753 - recall: 0.9737 - val_loss: 0.1694 - val_acc: 0.9306 - val_recall: 0.9271\n",
      "Epoch 13/15\n",
      "87/87 [==============================] - 60s 692ms/step - loss: 0.0819 - acc: 0.9684 - recall: 0.9684 - val_loss: 0.1345 - val_acc: 0.9549 - val_recall: 0.9549\n",
      "Epoch 14/15\n",
      "87/87 [==============================] - 61s 703ms/step - loss: 0.0607 - acc: 0.9812 - recall: 0.9803 - val_loss: 0.0938 - val_acc: 0.9757 - val_recall: 0.9757\n",
      "Epoch 15/15\n",
      "87/87 [==============================] - 61s 703ms/step - loss: 0.0701 - acc: 0.9777 - recall: 0.9773 - val_loss: 0.2160 - val_acc: 0.9479 - val_recall: 0.9479\n"
     ]
    }
   ],
   "source": [
    "#fit the generator to the model\n",
    "history2 = model2.fit_generator(train_data,\n",
    "                   validation_data = val_data,\n",
    "                   steps_per_epoch = train_data.n//train_data.batch_size,\n",
    "                   validation_steps = val_data.n//val_data.batch_size,\n",
    "                   epochs = 15)"
   ]
  },
  {
   "cell_type": "code",
   "execution_count": 34,
   "metadata": {},
   "outputs": [
    {
     "data": {
      "image/png": "[encoded data removed]",
      "text/plain": [
       "<Figure size 432x288 with 1 Axes>"
      ]
     },
     "metadata": {
      "needs_background": "light"
     },
     "output_type": "display_data"
    }
   ],
   "source": [
    "plt.plot(history2.history['acc'], label='Train Accuracy')\n",
    "plt.plot(history2.history['val_acc'], label='Val Accuracy')\n",
    "plt.title('Accuracy for Train vs Validation')\n",
    "plt.legend();"
   ]
  },
  {
   "cell_type": "code",
   "execution_count": 35,
   "metadata": {},
   "outputs": [
    {
     "data": {
      "image/png": "[encoded data removed]",
      "text/plain": [
       "<Figure size 432x288 with 1 Axes>"
      ]
     },
     "metadata": {
      "needs_background": "light"
     },
     "output_type": "display_data"
    }
   ],
   "source": [
    "plt.plot(history2.history['recall'], label='Train Recall')\n",
    "plt.plot(history2.history['val_recall'], label='Val Recall')\n",
    "plt.title('Recall for Train vs Validation')\n",
    "plt.legend();"
   ]
  },
  {
   "cell_type": "code",
   "execution_count": 36,
   "metadata": {},
   "outputs": [
    {
     "name": "stdout",
     "output_type": "stream",
     "text": [
      "25/25 [==============================] - 10s 396ms/step - loss: 0.3997 - acc: 0.9125 - recall: 0.9112\n"
     ]
    },
    {
     "data": {
      "text/plain": [
       "[0.3997397720813751, 0.9124839305877686, 0.9111968874931335]"
      ]
     },
     "execution_count": 36,
     "metadata": {},
     "output_type": "execute_result"
    }
   ],
   "source": [
    "model2.evaluate(test_data)"
   ]
  },
  {
   "cell_type": "code",
   "execution_count": null,
   "metadata": {},
   "outputs": [],
   "source": []
  },
  {
   "cell_type": "code",
   "execution_count": null,
   "metadata": {},
   "outputs": [],
   "source": []
  },
  {
   "cell_type": "markdown",
   "metadata": {},
   "source": [
    "##### Model 3: Trying out Transfer Learning"
   ]
  },
  {
   "cell_type": "code",
   "execution_count": 37,
   "metadata": {},
   "outputs": [
    {
     "name": "stdout",
     "output_type": "stream",
     "text": [
      "Found 2644 images belonging to 3 classes.\n",
      "Found 465 images belonging to 3 classes.\n",
      "Found 777 images belonging to 3 classes.\n"
     ]
    }
   ],
   "source": [
    "#load all images\n",
    "#directory parameter == file path! make sure the relative path is correct!\n",
    "#create a train dataset from the generator\n",
    "#create a test dataset for evaluation\n",
    "#label the batch_size for use later in the code\n",
    "\n",
    "#data augmentation\n",
    "image_generator = ImageDataGenerator(rescale = 1./255, validation_split=.15)\n",
    "\n",
    "test_datagen = ImageDataGenerator(rescale = 1./255)\n",
    "\n",
    "\n",
    "bat_size = 32\n",
    "\n",
    "train_data = image_generator.flow_from_directory(directory = 'COVID-19 Radiography Database Split/TRAIN',\n",
    "                                                 class_mode=None,\n",
    "                                                 subset = 'training',\n",
    "                                                 target_size=(256,256),\n",
    "                                                 shuffle=False,\n",
    "                                                 batch_size=bat_size)\n",
    "\n",
    "#create a validation dataset from the generator\n",
    "val_data = image_generator.flow_from_directory(directory = 'COVID-19 Radiography Database Split/TRAIN',\n",
    "                                                      class_mode=None,\n",
    "                                                      subset='validation',\n",
    "                                                      target_size=(256,256),\n",
    "                                                      shuffle=False,\n",
    "                                                      batch_size=bat_size)\n",
    "#pull in the test data from the directory\n",
    "test_data = test_datagen.flow_from_directory(directory = 'COVID-19 Radiography Database Split/TEST',\n",
    "                                            class_mode = None,\n",
    "                                            target_size = (256,256),\n",
    "                                            batch_size = bat_size)"
   ]
  },
  {
   "cell_type": "code",
   "execution_count": 38,
   "metadata": {},
   "outputs": [
    {
     "data": {
      "text/plain": [
       "dict_keys(['COVID_train', 'NORMAL_train', 'Viral_Pneumonia_train'])"
      ]
     },
     "execution_count": 38,
     "metadata": {},
     "output_type": "execute_result"
    }
   ],
   "source": [
    "#0 = covid, 1 = Normal, 2 = Viral Penumonia\n",
    "train_data.class_indices.keys()"
   ]
  },
  {
   "cell_type": "code",
   "execution_count": 41,
   "metadata": {},
   "outputs": [],
   "source": [
    "conv_base = InceptionV3(weights = 'imagenet', include_top = False, \n",
    "                       input_shape = (256, 256, 3))"
   ]
  },
  {
   "cell_type": "code",
   "execution_count": 42,
   "metadata": {},
   "outputs": [],
   "source": [
    "#predict features with base\n",
    "train_features = conv_base.predict(train_data)\n",
    "val_features = conv_base.predict(val_data)\n",
    "test_features = conv_base.predict(test_data)"
   ]
  },
  {
   "cell_type": "code",
   "execution_count": 43,
   "metadata": {},
   "outputs": [],
   "source": [
    "#grab target features\n",
    "y_train = train_data.labels\n",
    "y_val = val_data.labels\n",
    "y_test = test_data.labels"
   ]
  },
  {
   "cell_type": "code",
   "execution_count": 44,
   "metadata": {},
   "outputs": [],
   "source": [
    "#simple network to pool and classify -- Dense 2!\n",
    "model3 = Sequential()\n",
    "model3.add(GlobalAveragePooling2D())\n",
    "model3.add(Dense(3, activation = 'softmax'))\n",
    "#compile the model\n",
    "model3.compile(optimizer = 'adam', \n",
    "              loss = 'categorical_crossentropy',\n",
    "              metrics = ['acc', 'Recall'])"
   ]
  },
  {
   "cell_type": "code",
   "execution_count": 45,
   "metadata": {},
   "outputs": [],
   "source": [
    "y_train = to_categorical(y_train)\n",
    "y_val = to_categorical(y_val)\n",
    "y_test = to_categorical(y_test)"
   ]
  },
  {
   "cell_type": "code",
   "execution_count": 46,
   "metadata": {},
   "outputs": [
    {
     "name": "stdout",
     "output_type": "stream",
     "text": [
      "Epoch 1/15\n",
      "82/82 [==============================] - 1s 5ms/step - loss: 0.6401 - acc: 0.7057 - recall: 0.6532 - val_loss: 0.4134 - val_acc: 0.8043 - val_recall: 0.7892\n",
      "Epoch 2/15\n",
      "82/82 [==============================] - 0s 3ms/step - loss: 0.2825 - acc: 0.8966 - recall: 0.8910 - val_loss: 0.2429 - val_acc: 0.9097 - val_recall: 0.8968\n",
      "Epoch 3/15\n",
      "82/82 [==============================] - 0s 3ms/step - loss: 0.1842 - acc: 0.9411 - recall: 0.9369 - val_loss: 0.2238 - val_acc: 0.9204 - val_recall: 0.9054\n",
      "Epoch 4/15\n",
      "82/82 [==============================] - 0s 3ms/step - loss: 0.1761 - acc: 0.9423 - recall: 0.9372 - val_loss: 0.2051 - val_acc: 0.9269 - val_recall: 0.9183\n",
      "Epoch 5/15\n",
      "82/82 [==============================] - 0s 3ms/step - loss: 0.1524 - acc: 0.9478 - recall: 0.9446 - val_loss: 0.3192 - val_acc: 0.8753 - val_recall: 0.8710\n",
      "Epoch 6/15\n",
      "82/82 [==============================] - 0s 3ms/step - loss: 0.1521 - acc: 0.9451 - recall: 0.9409 - val_loss: 0.2504 - val_acc: 0.9032 - val_recall: 0.8968\n",
      "Epoch 7/15\n",
      "82/82 [==============================] - 0s 3ms/step - loss: 0.1153 - acc: 0.9619 - recall: 0.9597 - val_loss: 0.1802 - val_acc: 0.9333 - val_recall: 0.9290\n",
      "Epoch 8/15\n",
      "82/82 [==============================] - 0s 3ms/step - loss: 0.1227 - acc: 0.9570 - recall: 0.9546 - val_loss: 0.1872 - val_acc: 0.9355 - val_recall: 0.9226\n",
      "Epoch 9/15\n",
      "82/82 [==============================] - 0s 3ms/step - loss: 0.1138 - acc: 0.9628 - recall: 0.9598 - val_loss: 0.1726 - val_acc: 0.9355 - val_recall: 0.9333\n",
      "Epoch 10/15\n",
      "82/82 [==============================] - 0s 3ms/step - loss: 0.1000 - acc: 0.9697 - recall: 0.9680 - val_loss: 0.1793 - val_acc: 0.9355 - val_recall: 0.9312\n",
      "Epoch 11/15\n",
      "82/82 [==============================] - 0s 3ms/step - loss: 0.0994 - acc: 0.9674 - recall: 0.9657 - val_loss: 0.1798 - val_acc: 0.9290 - val_recall: 0.9269\n",
      "Epoch 12/15\n",
      "82/82 [==============================] - 0s 4ms/step - loss: 0.0886 - acc: 0.9743 - recall: 0.9722 - val_loss: 0.1802 - val_acc: 0.9333 - val_recall: 0.9312\n",
      "Epoch 13/15\n",
      "82/82 [==============================] - 0s 4ms/step - loss: 0.0857 - acc: 0.9762 - recall: 0.9751 - val_loss: 0.2084 - val_acc: 0.9247 - val_recall: 0.9226\n",
      "Epoch 14/15\n",
      "82/82 [==============================] - 0s 4ms/step - loss: 0.0902 - acc: 0.9733 - recall: 0.9721 - val_loss: 0.2018 - val_acc: 0.9269 - val_recall: 0.9269\n",
      "Epoch 15/15\n",
      "55/82 [===================>..........] - ETA: 0s - loss: 0.1040 - acc: 0.9613 - recall: 0.9611WARNING:tensorflow:Your input ran out of data; interrupting training. Make sure that your dataset or generator can generate at least `steps_per_epoch * epochs` batches (in this case, 1230 batches). You may need to use the repeat() function when building your dataset.\n",
      "82/82 [==============================] - 0s 3ms/step - loss: 0.0971 - acc: 0.9656 - recall: 0.9652 - val_loss: 0.1783 - val_acc: 0.9376 - val_recall: 0.9376\n"
     ]
    }
   ],
   "source": [
    "#fit the generator to the model\n",
    "history3 = model3.fit(train_features, y_train,\n",
    "                   validation_data = (val_features,y_val),\n",
    "                   steps_per_epoch = train_data.n//train_data.batch_size,\n",
    "                   validation_steps = val_data.n//val_data.batch_size,\n",
    "                   epochs = 15)"
   ]
  },
  {
   "cell_type": "code",
   "execution_count": 47,
   "metadata": {},
   "outputs": [
    {
     "data": {
      "image/png": "[encoded data removed]",
      "text/plain": [
       "<Figure size 432x288 with 1 Axes>"
      ]
     },
     "metadata": {
      "needs_background": "light"
     },
     "output_type": "display_data"
    }
   ],
   "source": [
    "plt.plot(history3.history['acc'], label='Train Accuracy')\n",
    "plt.plot(history3.history['val_acc'], label='Val Accuracy')\n",
    "plt.title('Accuracy for Train vs Validation')\n",
    "plt.legend();"
   ]
  },
  {
   "cell_type": "code",
   "execution_count": 48,
   "metadata": {},
   "outputs": [
    {
     "data": {
      "image/png": "[encoded data removed]",
      "text/plain": [
       "<Figure size 432x288 with 1 Axes>"
      ]
     },
     "metadata": {
      "needs_background": "light"
     },
     "output_type": "display_data"
    }
   ],
   "source": [
    "plt.plot(history3.history['recall'], label='Train Recall')\n",
    "plt.plot(history3.history['val_recall'], label='Val Recall')\n",
    "plt.title('Recall for Train vs Validation')\n",
    "plt.legend();"
   ]
  },
  {
   "cell_type": "code",
   "execution_count": 49,
   "metadata": {},
   "outputs": [
    {
     "name": "stdout",
     "output_type": "stream",
     "text": [
      "25/25 [==============================] - 0s 3ms/step - loss: 4.3181 - acc: 0.3436 - recall: 0.3423\n"
     ]
    },
    {
     "data": {
      "text/plain": [
       "[4.318126201629639, 0.3436293303966522, 0.342342346906662]"
      ]
     },
     "execution_count": 49,
     "metadata": {},
     "output_type": "execute_result"
    }
   ],
   "source": [
    "model3.evaluate(test_features, y_test)"
   ]
  },
  {
   "cell_type": "code",
   "execution_count": null,
   "metadata": {},
   "outputs": [],
   "source": []
  },
  {
   "cell_type": "code",
   "execution_count": null,
   "metadata": {},
   "outputs": [],
   "source": []
  },
  {
   "cell_type": "code",
   "execution_count": null,
   "metadata": {},
   "outputs": [],
   "source": []
  },
  {
   "cell_type": "code",
   "execution_count": null,
   "metadata": {},
   "outputs": [],
   "source": []
  },
  {
   "cell_type": "code",
   "execution_count": null,
   "metadata": {},
   "outputs": [],
   "source": []
  },
  {
   "cell_type": "code",
   "execution_count": null,
   "metadata": {},
   "outputs": [],
   "source": []
  },
  {
   "cell_type": "code",
   "execution_count": null,
   "metadata": {},
   "outputs": [],
   "source": []
  },
  {
   "cell_type": "code",
   "execution_count": null,
   "metadata": {},
   "outputs": [],
   "source": []
  },
  {
   "cell_type": "code",
   "execution_count": null,
   "metadata": {},
   "outputs": [],
   "source": []
  },
  {
   "cell_type": "code",
   "execution_count": null,
   "metadata": {},
   "outputs": [],
   "source": []
  },
  {
   "cell_type": "code",
   "execution_count": null,
   "metadata": {},
   "outputs": [],
   "source": []
  }
 ],
 "metadata": {
  "kernelspec": {
   "display_name": "Python 3",
   "language": "python",
   "name": "python3"
  },
  "language_info": {
   "codemirror_mode": {
    "name": "ipython",
    "version": 3
   },
   "file_extension": ".py",
   "mimetype": "text/x-python",
   "name": "python",
   "nbconvert_exporter": "python",
   "pygments_lexer": "ipython3",
   "version": "3.8.3"
  }
 },
 "nbformat": 4,
 "nbformat_minor": 4
}
